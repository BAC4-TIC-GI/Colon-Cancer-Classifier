{
 "cells": [
  {
   "cell_type": "code",
   "execution_count": 616,
   "metadata": {},
   "outputs": [],
   "source": [
    "import numpy as np\n",
    "import pandas as pd\n",
    "import matplotlib.pyplot as plt\n",
    "import seaborn as sns"
   ]
  },
  {
   "cell_type": "code",
   "execution_count": 617,
   "metadata": {},
   "outputs": [],
   "source": [
    "data = pd.read_csv(\"Data/colon_cancer.csv\", sep=\";\")"
   ]
  },
  {
   "cell_type": "code",
   "execution_count": 618,
   "metadata": {},
   "outputs": [
    {
     "data": {
      "text/html": [
       "<div>\n",
       "<style scoped>\n",
       "    .dataframe tbody tr th:only-of-type {\n",
       "        vertical-align: middle;\n",
       "    }\n",
       "\n",
       "    .dataframe tbody tr th {\n",
       "        vertical-align: top;\n",
       "    }\n",
       "\n",
       "    .dataframe thead th {\n",
       "        text-align: right;\n",
       "    }\n",
       "</style>\n",
       "<table border=\"1\" class=\"dataframe\">\n",
       "  <thead>\n",
       "    <tr style=\"text-align: right;\">\n",
       "      <th></th>\n",
       "      <th>id_sample</th>\n",
       "      <th>ADH1C</th>\n",
       "      <th>DHRS11</th>\n",
       "      <th>UGP2</th>\n",
       "      <th>SLC7A5</th>\n",
       "      <th>CTSS</th>\n",
       "      <th>DAO</th>\n",
       "      <th>NIBAN1</th>\n",
       "      <th>PRUNE2</th>\n",
       "      <th>FOXF2</th>\n",
       "      <th>...</th>\n",
       "      <th>BSPRY</th>\n",
       "      <th>CDHR2</th>\n",
       "      <th>ERRFI1</th>\n",
       "      <th>CLIC5</th>\n",
       "      <th>PLLP</th>\n",
       "      <th>GAL</th>\n",
       "      <th>CRYL1</th>\n",
       "      <th>YBX2</th>\n",
       "      <th>ANGPTL4</th>\n",
       "      <th>tissue_status</th>\n",
       "    </tr>\n",
       "  </thead>\n",
       "  <tbody>\n",
       "    <tr>\n",
       "      <th>0</th>\n",
       "      <td>EPSM-COLON-0001</td>\n",
       "      <td>9.199944</td>\n",
       "      <td>6.090054</td>\n",
       "      <td>7.062512</td>\n",
       "      <td>3.864253</td>\n",
       "      <td>7.869368</td>\n",
       "      <td>8.465133</td>\n",
       "      <td>1.174665</td>\n",
       "      <td>0.975086</td>\n",
       "      <td>3.028995</td>\n",
       "      <td>...</td>\n",
       "      <td>5.528372</td>\n",
       "      <td>3.500730</td>\n",
       "      <td>2.893760</td>\n",
       "      <td>5.130743</td>\n",
       "      <td>1.485110</td>\n",
       "      <td>1.830484</td>\n",
       "      <td>6.379933</td>\n",
       "      <td>3.919293</td>\n",
       "      <td>3.031413</td>\n",
       "      <td>normal</td>\n",
       "    </tr>\n",
       "    <tr>\n",
       "      <th>1</th>\n",
       "      <td>EPSM-COLON-0002</td>\n",
       "      <td>7.767618</td>\n",
       "      <td>6.027985</td>\n",
       "      <td>6.318818</td>\n",
       "      <td>3.069581</td>\n",
       "      <td>6.410334</td>\n",
       "      <td>8.159814</td>\n",
       "      <td>5.959414</td>\n",
       "      <td>1.625518</td>\n",
       "      <td>2.984629</td>\n",
       "      <td>...</td>\n",
       "      <td>5.671788</td>\n",
       "      <td>4.658790</td>\n",
       "      <td>4.715374</td>\n",
       "      <td>5.438104</td>\n",
       "      <td>2.131466</td>\n",
       "      <td>2.097157</td>\n",
       "      <td>6.863173</td>\n",
       "      <td>0.322829</td>\n",
       "      <td>3.978531</td>\n",
       "      <td>normal</td>\n",
       "    </tr>\n",
       "    <tr>\n",
       "      <th>2</th>\n",
       "      <td>EPSM-COLON-0003</td>\n",
       "      <td>7.918904</td>\n",
       "      <td>5.885948</td>\n",
       "      <td>6.917742</td>\n",
       "      <td>3.188257</td>\n",
       "      <td>7.915549</td>\n",
       "      <td>8.004194</td>\n",
       "      <td>1.560386</td>\n",
       "      <td>2.379909</td>\n",
       "      <td>2.929762</td>\n",
       "      <td>...</td>\n",
       "      <td>4.596079</td>\n",
       "      <td>5.649376</td>\n",
       "      <td>4.047899</td>\n",
       "      <td>6.580938</td>\n",
       "      <td>1.447209</td>\n",
       "      <td>3.890943</td>\n",
       "      <td>6.209704</td>\n",
       "      <td>3.274407</td>\n",
       "      <td>3.714491</td>\n",
       "      <td>normal</td>\n",
       "    </tr>\n",
       "    <tr>\n",
       "      <th>3</th>\n",
       "      <td>EPSM-COLON-0004</td>\n",
       "      <td>9.053553</td>\n",
       "      <td>6.027985</td>\n",
       "      <td>7.081085</td>\n",
       "      <td>2.357523</td>\n",
       "      <td>5.657726</td>\n",
       "      <td>8.004194</td>\n",
       "      <td>3.548988</td>\n",
       "      <td>3.260031</td>\n",
       "      <td>3.313829</td>\n",
       "      <td>...</td>\n",
       "      <td>4.135061</td>\n",
       "      <td>5.437107</td>\n",
       "      <td>4.537381</td>\n",
       "      <td>4.615263</td>\n",
       "      <td>1.004454</td>\n",
       "      <td>1.840902</td>\n",
       "      <td>6.774063</td>\n",
       "      <td>3.320525</td>\n",
       "      <td>3.080796</td>\n",
       "      <td>normal</td>\n",
       "    </tr>\n",
       "    <tr>\n",
       "      <th>4</th>\n",
       "      <td>EPSM-COLON-0005</td>\n",
       "      <td>6.027822</td>\n",
       "      <td>5.791257</td>\n",
       "      <td>5.937685</td>\n",
       "      <td>4.137667</td>\n",
       "      <td>5.818999</td>\n",
       "      <td>8.056067</td>\n",
       "      <td>3.307945</td>\n",
       "      <td>5.208874</td>\n",
       "      <td>4.191695</td>\n",
       "      <td>...</td>\n",
       "      <td>3.674043</td>\n",
       "      <td>6.286182</td>\n",
       "      <td>4.715374</td>\n",
       "      <td>4.432410</td>\n",
       "      <td>0.159195</td>\n",
       "      <td>3.506561</td>\n",
       "      <td>6.150297</td>\n",
       "      <td>0.461184</td>\n",
       "      <td>5.140305</td>\n",
       "      <td>normal</td>\n",
       "    </tr>\n",
       "  </tbody>\n",
       "</table>\n",
       "<p>5 rows × 62 columns</p>\n",
       "</div>"
      ],
      "text/plain": [
       "         id_sample     ADH1C    DHRS11      UGP2    SLC7A5      CTSS  \\\n",
       "0  EPSM-COLON-0001  9.199944  6.090054  7.062512  3.864253  7.869368   \n",
       "1  EPSM-COLON-0002  7.767618  6.027985  6.318818  3.069581  6.410334   \n",
       "2  EPSM-COLON-0003  7.918904  5.885948  6.917742  3.188257  7.915549   \n",
       "3  EPSM-COLON-0004  9.053553  6.027985  7.081085  2.357523  5.657726   \n",
       "4  EPSM-COLON-0005  6.027822  5.791257  5.937685  4.137667  5.818999   \n",
       "\n",
       "        DAO    NIBAN1    PRUNE2     FOXF2  ...     BSPRY     CDHR2    ERRFI1  \\\n",
       "0  8.465133  1.174665  0.975086  3.028995  ...  5.528372  3.500730  2.893760   \n",
       "1  8.159814  5.959414  1.625518  2.984629  ...  5.671788  4.658790  4.715374   \n",
       "2  8.004194  1.560386  2.379909  2.929762  ...  4.596079  5.649376  4.047899   \n",
       "3  8.004194  3.548988  3.260031  3.313829  ...  4.135061  5.437107  4.537381   \n",
       "4  8.056067  3.307945  5.208874  4.191695  ...  3.674043  6.286182  4.715374   \n",
       "\n",
       "      CLIC5      PLLP       GAL     CRYL1      YBX2   ANGPTL4  tissue_status  \n",
       "0  5.130743  1.485110  1.830484  6.379933  3.919293  3.031413         normal  \n",
       "1  5.438104  2.131466  2.097157  6.863173  0.322829  3.978531         normal  \n",
       "2  6.580938  1.447209  3.890943  6.209704  3.274407  3.714491         normal  \n",
       "3  4.615263  1.004454  1.840902  6.774063  3.320525  3.080796         normal  \n",
       "4  4.432410  0.159195  3.506561  6.150297  0.461184  5.140305         normal  \n",
       "\n",
       "[5 rows x 62 columns]"
      ]
     },
     "execution_count": 618,
     "metadata": {},
     "output_type": "execute_result"
    }
   ],
   "source": [
    "data.head(5)\n",
    "# data.info()\n",
    "# data.describe()\n",
    "# data['tissue_status'].value_counts()"
   ]
  },
  {
   "cell_type": "code",
   "execution_count": 619,
   "metadata": {},
   "outputs": [],
   "source": [
    "selected_features = data[[\"CTSS\", \"tissue_status\"]]"
   ]
  },
  {
   "cell_type": "code",
   "execution_count": 620,
   "metadata": {},
   "outputs": [
    {
     "data": {
      "text/plain": [
       "<Figure size 800x500 with 0 Axes>"
      ]
     },
     "metadata": {},
     "output_type": "display_data"
    },
    {
     "data": {
      "image/png": "[encoded data removed]",
      "text/plain": [
       "<Figure size 604.5x500 with 1 Axes>"
      ]
     },
     "metadata": {},
     "output_type": "display_data"
    }
   ],
   "source": [
    "plt.figure(figsize=(8, 5))\n",
    "sns.displot(data=selected_features, x=data[\"CTSS\"], hue=data[\"tissue_status\"], kind='kde')\n",
    "plt.xlabel(f\"Expression du gene CTSS\")\n",
    "plt.ylabel('Densite')\n",
    "plt.title(f\"Distribution de l'expression du gene CTSS par statut du tissu\")\n",
    "plt.show()"
   ]
  },
  {
   "cell_type": "code",
   "execution_count": 621,
   "metadata": {},
   "outputs": [],
   "source": [
    "selected_features = data[[\"DAO\", \"tissue_status\"]]\n",
    "x = data[[\"DAO\"]]\n",
    "y = data[[\"tissue_status\"]]"
   ]
  },
  {
   "cell_type": "code",
   "execution_count": 622,
   "metadata": {},
   "outputs": [
    {
     "data": {
      "text/html": [
       "<div>\n",
       "<style scoped>\n",
       "    .dataframe tbody tr th:only-of-type {\n",
       "        vertical-align: middle;\n",
       "    }\n",
       "\n",
       "    .dataframe tbody tr th {\n",
       "        vertical-align: top;\n",
       "    }\n",
       "\n",
       "    .dataframe thead th {\n",
       "        text-align: right;\n",
       "    }\n",
       "</style>\n",
       "<table border=\"1\" class=\"dataframe\">\n",
       "  <thead>\n",
       "    <tr style=\"text-align: right;\">\n",
       "      <th></th>\n",
       "      <th>tissue_status</th>\n",
       "    </tr>\n",
       "  </thead>\n",
       "  <tbody>\n",
       "    <tr>\n",
       "      <th>0</th>\n",
       "      <td>normal</td>\n",
       "    </tr>\n",
       "    <tr>\n",
       "      <th>1</th>\n",
       "      <td>normal</td>\n",
       "    </tr>\n",
       "    <tr>\n",
       "      <th>2</th>\n",
       "      <td>normal</td>\n",
       "    </tr>\n",
       "    <tr>\n",
       "      <th>3</th>\n",
       "      <td>normal</td>\n",
       "    </tr>\n",
       "    <tr>\n",
       "      <th>4</th>\n",
       "      <td>normal</td>\n",
       "    </tr>\n",
       "  </tbody>\n",
       "</table>\n",
       "</div>"
      ],
      "text/plain": [
       "  tissue_status\n",
       "0        normal\n",
       "1        normal\n",
       "2        normal\n",
       "3        normal\n",
       "4        normal"
      ]
     },
     "execution_count": 622,
     "metadata": {},
     "output_type": "execute_result"
    }
   ],
   "source": [
    "x.head(5)\n",
    "y.head(5)"
   ]
  },
  {
   "cell_type": "code",
   "execution_count": 623,
   "metadata": {},
   "outputs": [],
   "source": [
    "from sklearn.model_selection import train_test_split"
   ]
  },
  {
   "cell_type": "code",
   "execution_count": 624,
   "metadata": {},
   "outputs": [],
   "source": [
    "X_train, X_test, y_train, y_test = train_test_split(x, y, test_size=0.4, random_state=42, stratify=y)"
   ]
  },
  {
   "cell_type": "code",
   "execution_count": 625,
   "metadata": {},
   "outputs": [
    {
     "data": {
      "text/html": [
       "<div>\n",
       "<style scoped>\n",
       "    .dataframe tbody tr th:only-of-type {\n",
       "        vertical-align: middle;\n",
       "    }\n",
       "\n",
       "    .dataframe tbody tr th {\n",
       "        vertical-align: top;\n",
       "    }\n",
       "\n",
       "    .dataframe thead th {\n",
       "        text-align: right;\n",
       "    }\n",
       "</style>\n",
       "<table border=\"1\" class=\"dataframe\">\n",
       "  <thead>\n",
       "    <tr style=\"text-align: right;\">\n",
       "      <th></th>\n",
       "      <th>DAO</th>\n",
       "    </tr>\n",
       "  </thead>\n",
       "  <tbody>\n",
       "    <tr>\n",
       "      <th>271</th>\n",
       "      <td>7.848573</td>\n",
       "    </tr>\n",
       "    <tr>\n",
       "      <th>644</th>\n",
       "      <td>5.099066</td>\n",
       "    </tr>\n",
       "    <tr>\n",
       "      <th>172</th>\n",
       "      <td>8.419182</td>\n",
       "    </tr>\n",
       "    <tr>\n",
       "      <th>412</th>\n",
       "      <td>2.783990</td>\n",
       "    </tr>\n",
       "    <tr>\n",
       "      <th>768</th>\n",
       "      <td>4.985339</td>\n",
       "    </tr>\n",
       "  </tbody>\n",
       "</table>\n",
       "</div>"
      ],
      "text/plain": [
       "          DAO\n",
       "271  7.848573\n",
       "644  5.099066\n",
       "172  8.419182\n",
       "412  2.783990\n",
       "768  4.985339"
      ]
     },
     "execution_count": 625,
     "metadata": {},
     "output_type": "execute_result"
    }
   ],
   "source": [
    "X_train.head(5)"
   ]
  },
  {
   "cell_type": "code",
   "execution_count": 626,
   "metadata": {},
   "outputs": [],
   "source": [
    "from sklearn.tree import DecisionTreeClassifier\n",
    "model_dt = DecisionTreeClassifier(\n",
    "    max_depth=5,                # Limit tree depth\n",
    "    min_samples_split=20,       # Minimum samples to split a node\n",
    "    min_samples_leaf=10,        # Minimum samples in a leaf\n",
    "    max_leaf_nodes=30,          # Maximum number of leaf nodes\n",
    "    random_state=42\n",
    ")"
   ]
  },
  {
   "cell_type": "code",
   "execution_count": 627,
   "metadata": {},
   "outputs": [],
   "source": [
    "model_dt.fit(X_train, y_train)\n",
    "y_tets_pred = model_dt.predict(X_test)"
   ]
  },
  {
   "cell_type": "code",
   "execution_count": 628,
   "metadata": {},
   "outputs": [
    {
     "name": "stdout",
     "output_type": "stream",
     "text": [
      "Classifications of Give data:  ['normal' 'tumoral' 'tumoral' 'normal' 'tumoral' 'tumoral']\n"
     ]
    }
   ],
   "source": [
    "# New DAO gene expression values to classify\n",
    "new_features = [\n",
    "    8.465133, 0.093537924242426, 2.5125195,\n",
    "    7.589205545454546, 4.2617905, 5.7888797\n",
    "]\n",
    "\n",
    "new_features_reshaped = np.array(new_features).reshape(-1, 1)\n",
    "new_features_reshaped = pd.DataFrame(new_features_reshaped, columns=[\"DAO\"])\n",
    "new_pred = model_dt.predict(new_features_reshaped)\n",
    "\n",
    "print(\"Classifications of Give data: \", new_pred)"
   ]
  },
  {
   "cell_type": "code",
   "execution_count": 629,
   "metadata": {},
   "outputs": [
    {
     "data": {
      "text/plain": [
       "array([[153,   8],\n",
       "       [ 14, 147]])"
      ]
     },
     "execution_count": 629,
     "metadata": {},
     "output_type": "execute_result"
    }
   ],
   "source": [
    "# Evaluer le modèle\n",
    "from sklearn.metrics import classification_report, accuracy_score, confusion_matrix\n",
    "\n",
    "classification_report(y_test, y_tets_pred)\n",
    "accuracy_score(y_test, y_tets_pred)\n",
    "confusion_matrix(y_test, y_tets_pred)"
   ]
  },
  {
   "cell_type": "code",
   "execution_count": 630,
   "metadata": {},
   "outputs": [
    {
     "data": {
      "text/plain": [
       "np.float64(0.9403027950310558)"
      ]
     },
     "execution_count": 630,
     "metadata": {},
     "output_type": "execute_result"
    }
   ],
   "source": [
    "# Cross-validation: Evaluer la capacité de généralisation du modèle\n",
    "from sklearn.model_selection import cross_val_score\n",
    "\n",
    "cv_scores = cross_val_score(model_dt, x, y.values.ravel(), cv=5)\n",
    "cv_scores\n",
    "cv_scores.mean()"
   ]
  },
  {
   "cell_type": "code",
   "execution_count": 631,
   "metadata": {},
   "outputs": [
    {
     "data": {
      "text/plain": [
       "['cc_model.pkl']"
      ]
     },
     "execution_count": 631,
     "metadata": {},
     "output_type": "execute_result"
    }
   ],
   "source": [
    "import joblib\n",
    "\n",
    "joblib.dump(model_dt, \"cc_model.pkl\")"
   ]
  },
  {
   "cell_type": "code",
   "execution_count": 632,
   "metadata": {},
   "outputs": [],
   "source": [
    "imported_model = joblib.load(\"cc_model.pkl\")"
   ]
  },
  {
   "cell_type": "code",
   "execution_count": 633,
   "metadata": {},
   "outputs": [
    {
     "name": "stdout",
     "output_type": "stream",
     "text": [
      "Classifications of New given data:  ['normal' 'tumoral' 'tumoral' 'normal' 'tumoral' 'tumoral']\n"
     ]
    }
   ],
   "source": [
    "classify = imported_model.predict(new_features_reshaped)\n",
    "print(\"Classifications of New given data: \", classify)"
   ]
  },
  {
   "cell_type": "code",
   "execution_count": null,
   "metadata": {},
   "outputs": [],
   "source": []
  }
 ],
 "metadata": {
  "kernelspec": {
   "display_name": "Python 3",
   "language": "python",
   "name": "python3"
  },
  "language_info": {
   "codemirror_mode": {
    "name": "ipython",
    "version": 3
   },
   "file_extension": ".py",
   "mimetype": "text/x-python",
   "name": "python",
   "nbconvert_exporter": "python",
   "pygments_lexer": "ipython3",
   "version": "3.12.1"
  }
 },
 "nbformat": 4,
 "nbformat_minor": 2
}
